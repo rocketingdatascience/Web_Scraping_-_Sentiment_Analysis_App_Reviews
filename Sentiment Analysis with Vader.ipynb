{
 "cells": [
  {
   "cell_type": "markdown",
   "metadata": {},
   "source": [
    "# Sentiment Analysis Project\n",
    "\n",
    "VADER (Valence Aware Dictionary and sEntiment Reasoner) is a lexicon and rule-based sentiment analysis tool that is specifically attuned to sentiments expressed in social media.\n",
    "\n",
    "- How this library works\n",
    "- Sentiment analysis on Robinhood app reviews\n",
    "\n",
    "Documentation: https://github.com/cjhutto/vaderSentiment"
   ]
  },
  {
   "cell_type": "code",
   "execution_count": 1,
   "metadata": {},
   "outputs": [],
   "source": [
    "import pandas as pd\n",
    "from vaderSentiment.vaderSentiment import SentimentIntensityAnalyzer"
   ]
  },
  {
   "cell_type": "markdown",
   "metadata": {},
   "source": [
    "## How VADER works"
   ]
  },
  {
   "cell_type": "code",
   "execution_count": 2,
   "metadata": {},
   "outputs": [],
   "source": [
    "analyzer = SentimentIntensityAnalyzer()"
   ]
  },
  {
   "cell_type": "code",
   "execution_count": 3,
   "metadata": {},
   "outputs": [
    {
     "name": "stdout",
     "output_type": "stream",
     "text": [
      "Baseline\n",
      "{'neg': 0.0, 'neu': 0.213, 'pos': 0.787, 'compound': 0.5719}\n",
      "Capitalization\n",
      "{'neg': 0.0, 'neu': 0.184, 'pos': 0.816, 'compound': 0.6633}\n"
     ]
    }
   ],
   "source": [
    "print('Baseline')\n",
    "print(analyzer.polarity_scores(\"I'm happy\"))\n",
    "\n",
    "print('Capitalization')\n",
    "print(analyzer.polarity_scores(\"I'm HAPPY\"))"
   ]
  },
  {
   "cell_type": "code",
   "execution_count": 4,
   "metadata": {},
   "outputs": [
    {
     "name": "stdout",
     "output_type": "stream",
     "text": [
      "Baseline\n",
      "{'neg': 0.0, 'neu': 0.213, 'pos': 0.787, 'compound': 0.5719}\n",
      "Degree modifier\n",
      "{'neg': 0.0, 'neu': 0.468, 'pos': 0.532, 'compound': 0.5279}\n",
      "{'neg': 0.0, 'neu': 0.429, 'pos': 0.571, 'compound': 0.6115}\n"
     ]
    }
   ],
   "source": [
    "print('Baseline')\n",
    "print(analyzer.polarity_scores(\"I'm happy\"))\n",
    "\n",
    "print('Degree modifier')\n",
    "print(analyzer.polarity_scores(\"I'm a little happy\"))\n",
    "print(analyzer.polarity_scores(\"I'm a extremely happy\"))"
   ]
  },
  {
   "cell_type": "code",
   "execution_count": 5,
   "metadata": {},
   "outputs": [
    {
     "name": "stdout",
     "output_type": "stream",
     "text": [
      "Baseline\n",
      "{'neg': 0.0, 'neu': 0.213, 'pos': 0.787, 'compound': 0.5719}\n",
      "Punctuation\n",
      "{'neg': 0.0, 'neu': 0.334, 'pos': 0.666, 'compound': 0.6114}\n",
      "{'neg': 0.0, 'neu': 0.304, 'pos': 0.696, 'compound': 0.6784}\n"
     ]
    }
   ],
   "source": [
    "print('Baseline')\n",
    "print(analyzer.polarity_scores(\"I'm happy\"))\n",
    "\n",
    "print('Punctuation')\n",
    "print(analyzer.polarity_scores(\"I'm happy !\"))\n",
    "print(analyzer.polarity_scores(\"I'm happy !!!\"))"
   ]
  },
  {
   "cell_type": "code",
   "execution_count": 6,
   "metadata": {},
   "outputs": [
    {
     "name": "stdout",
     "output_type": "stream",
     "text": [
      "Baseline\n",
      "{'neg': 0.756, 'neu': 0.244, 'pos': 0.0, 'compound': -0.4767}\n",
      "Conjunctions\n",
      "{'neg': 0.22, 'neu': 0.43, 'pos': 0.349, 'compound': 0.296}\n"
     ]
    }
   ],
   "source": [
    "print('Baseline')\n",
    "print(analyzer.polarity_scores(\"I'm sad\"))\n",
    "\n",
    "print('Conjunctions')\n",
    "print(analyzer.polarity_scores(\"I'm sad, but i like it\"))"
   ]
  },
  {
   "cell_type": "code",
   "execution_count": 7,
   "metadata": {},
   "outputs": [
    {
     "name": "stdout",
     "output_type": "stream",
     "text": [
      "{'neg': 0.166, 'neu': 0.323, 'pos': 0.511, 'compound': 0.6467}\n",
      "{'neg': 0.0, 'neu': 0.338, 'pos': 0.662, 'compound': 0.8684}\n",
      "{'neg': 0.0, 'neu': 0.327, 'pos': 0.673, 'compound': 0.8829}\n",
      "{'neg': 0.681, 'neu': 0.319, 'pos': 0.0, 'compound': -0.7506}\n",
      "{'neg': 0.691, 'neu': 0.309, 'pos': 0.0, 'compound': -0.7717}\n"
     ]
    }
   ],
   "source": [
    "# Emotions expressed with emojis\n",
    "\n",
    "print(analyzer.polarity_scores(\"I'm happy !! 😥\"))\n",
    "print(analyzer.polarity_scores(\"I'm happy !! 😄\"))\n",
    "print(analyzer.polarity_scores(\"I'm happy !! 😊\"))\n",
    "\n",
    "print(analyzer.polarity_scores(\"This is bad ... :(\"))\n",
    "print(analyzer.polarity_scores(\"This is bad ... :'(\"))"
   ]
  },
  {
   "cell_type": "code",
   "execution_count": 8,
   "metadata": {},
   "outputs": [
    {
     "data": {
      "text/plain": [
       "{'neg': 0.681, 'neu': 0.319, 'pos': 0.0, 'compound': -0.7506}"
      ]
     },
     "execution_count": 8,
     "metadata": {},
     "output_type": "execute_result"
    }
   ],
   "source": [
    "sentimentScores = analyzer.polarity_scores(str('This is bad ... :('))\n",
    "sentimentScores"
   ]
  },
  {
   "cell_type": "code",
   "execution_count": 11,
   "metadata": {},
   "outputs": [
    {
     "data": {
      "text/plain": [
       "-0.7506"
      ]
     },
     "execution_count": 11,
     "metadata": {},
     "output_type": "execute_result"
    }
   ],
   "source": [
    "sentimentScores['compound']"
   ]
  },
  {
   "cell_type": "markdown",
   "metadata": {},
   "source": [
    "## Sentiment Analysis on Robinhood App Reviews"
   ]
  },
  {
   "cell_type": "code",
   "execution_count": 12,
   "metadata": {},
   "outputs": [],
   "source": [
    "def sentimentScores(text):\n",
    "    sentiment = 0\n",
    "    \n",
    "    sentimentScores = analyzer.polarity_scores(str(text))\n",
    "    compound = sentimentScores['compound']\n",
    "    \n",
    "    if(compound >= 0.05):\n",
    "        sentiment = 1\n",
    "    elif(compound <= -0.05):\n",
    "        sentiment = -1\n",
    "    else:\n",
    "        sentiment = 0\n",
    "        \n",
    "    return sentiment"
   ]
  },
  {
   "cell_type": "code",
   "execution_count": 13,
   "metadata": {},
   "outputs": [],
   "source": [
    "df = pd.read_csv('ios_app_clean.csv')"
   ]
  },
  {
   "cell_type": "code",
   "execution_count": 14,
   "metadata": {},
   "outputs": [
    {
     "data": {
      "text/html": [
       "<div>\n",
       "<style scoped>\n",
       "    .dataframe tbody tr th:only-of-type {\n",
       "        vertical-align: middle;\n",
       "    }\n",
       "\n",
       "    .dataframe tbody tr th {\n",
       "        vertical-align: top;\n",
       "    }\n",
       "\n",
       "    .dataframe thead th {\n",
       "        text-align: right;\n",
       "    }\n",
       "</style>\n",
       "<table border=\"1\" class=\"dataframe\">\n",
       "  <thead>\n",
       "    <tr style=\"text-align: right;\">\n",
       "      <th></th>\n",
       "      <th>Date</th>\n",
       "      <th>Rating</th>\n",
       "      <th>Review</th>\n",
       "    </tr>\n",
       "  </thead>\n",
       "  <tbody>\n",
       "    <tr>\n",
       "      <th>0</th>\n",
       "      <td>2021-03-18</td>\n",
       "      <td>1</td>\n",
       "      <td>Knowing my shares aren’t real, means RH IS MAN...</td>\n",
       "    </tr>\n",
       "    <tr>\n",
       "      <th>1</th>\n",
       "      <td>2021-03-18</td>\n",
       "      <td>1</td>\n",
       "      <td>This company is currently under investigation ...</td>\n",
       "    </tr>\n",
       "    <tr>\n",
       "      <th>2</th>\n",
       "      <td>2021-03-18</td>\n",
       "      <td>1</td>\n",
       "      <td>They sell your data to MM, halt trading when i...</td>\n",
       "    </tr>\n",
       "    <tr>\n",
       "      <th>3</th>\n",
       "      <td>2021-03-18</td>\n",
       "      <td>1</td>\n",
       "      <td>Easy and simple to use but for the love of god...</td>\n",
       "    </tr>\n",
       "    <tr>\n",
       "      <th>4</th>\n",
       "      <td>2021-03-18</td>\n",
       "      <td>5</td>\n",
       "      <td>Easy to learn &amp; Use</td>\n",
       "    </tr>\n",
       "  </tbody>\n",
       "</table>\n",
       "</div>"
      ],
      "text/plain": [
       "         Date  Rating                                             Review\n",
       "0  2021-03-18       1  Knowing my shares aren’t real, means RH IS MAN...\n",
       "1  2021-03-18       1  This company is currently under investigation ...\n",
       "2  2021-03-18       1  They sell your data to MM, halt trading when i...\n",
       "3  2021-03-18       1  Easy and simple to use but for the love of god...\n",
       "4  2021-03-18       5                                Easy to learn & Use"
      ]
     },
     "execution_count": 14,
     "metadata": {},
     "output_type": "execute_result"
    }
   ],
   "source": [
    "df.head()"
   ]
  },
  {
   "cell_type": "code",
   "execution_count": 15,
   "metadata": {},
   "outputs": [],
   "source": [
    "df['Sentiment'] = [sentimentScores(x) for x in df['Review']]"
   ]
  },
  {
   "cell_type": "code",
   "execution_count": 16,
   "metadata": {},
   "outputs": [
    {
     "data": {
      "text/html": [
       "<div>\n",
       "<style scoped>\n",
       "    .dataframe tbody tr th:only-of-type {\n",
       "        vertical-align: middle;\n",
       "    }\n",
       "\n",
       "    .dataframe tbody tr th {\n",
       "        vertical-align: top;\n",
       "    }\n",
       "\n",
       "    .dataframe thead th {\n",
       "        text-align: right;\n",
       "    }\n",
       "</style>\n",
       "<table border=\"1\" class=\"dataframe\">\n",
       "  <thead>\n",
       "    <tr style=\"text-align: right;\">\n",
       "      <th></th>\n",
       "      <th>Rating</th>\n",
       "      <th>Sentiment</th>\n",
       "    </tr>\n",
       "  </thead>\n",
       "  <tbody>\n",
       "    <tr>\n",
       "      <th>count</th>\n",
       "      <td>27137.000000</td>\n",
       "      <td>27137.000000</td>\n",
       "    </tr>\n",
       "    <tr>\n",
       "      <th>mean</th>\n",
       "      <td>2.553967</td>\n",
       "      <td>0.291042</td>\n",
       "    </tr>\n",
       "    <tr>\n",
       "      <th>std</th>\n",
       "      <td>1.834600</td>\n",
       "      <td>0.880151</td>\n",
       "    </tr>\n",
       "    <tr>\n",
       "      <th>min</th>\n",
       "      <td>1.000000</td>\n",
       "      <td>-1.000000</td>\n",
       "    </tr>\n",
       "    <tr>\n",
       "      <th>25%</th>\n",
       "      <td>1.000000</td>\n",
       "      <td>-1.000000</td>\n",
       "    </tr>\n",
       "    <tr>\n",
       "      <th>50%</th>\n",
       "      <td>1.000000</td>\n",
       "      <td>1.000000</td>\n",
       "    </tr>\n",
       "    <tr>\n",
       "      <th>75%</th>\n",
       "      <td>5.000000</td>\n",
       "      <td>1.000000</td>\n",
       "    </tr>\n",
       "    <tr>\n",
       "      <th>max</th>\n",
       "      <td>5.000000</td>\n",
       "      <td>1.000000</td>\n",
       "    </tr>\n",
       "  </tbody>\n",
       "</table>\n",
       "</div>"
      ],
      "text/plain": [
       "             Rating     Sentiment\n",
       "count  27137.000000  27137.000000\n",
       "mean       2.553967      0.291042\n",
       "std        1.834600      0.880151\n",
       "min        1.000000     -1.000000\n",
       "25%        1.000000     -1.000000\n",
       "50%        1.000000      1.000000\n",
       "75%        5.000000      1.000000\n",
       "max        5.000000      1.000000"
      ]
     },
     "execution_count": 16,
     "metadata": {},
     "output_type": "execute_result"
    }
   ],
   "source": [
    "df.describe()"
   ]
  },
  {
   "cell_type": "code",
   "execution_count": 17,
   "metadata": {},
   "outputs": [
    {
     "data": {
      "text/plain": [
       " 1    15609\n",
       "-1     7711\n",
       " 0     3817\n",
       "Name: Sentiment, dtype: int64"
      ]
     },
     "execution_count": 17,
     "metadata": {},
     "output_type": "execute_result"
    }
   ],
   "source": [
    "df.Sentiment.value_counts()"
   ]
  },
  {
   "cell_type": "code",
   "execution_count": 18,
   "metadata": {
    "scrolled": false
   },
   "outputs": [
    {
     "data": {
      "text/html": [
       "<div>\n",
       "<style scoped>\n",
       "    .dataframe tbody tr th:only-of-type {\n",
       "        vertical-align: middle;\n",
       "    }\n",
       "\n",
       "    .dataframe tbody tr th {\n",
       "        vertical-align: top;\n",
       "    }\n",
       "\n",
       "    .dataframe thead th {\n",
       "        text-align: right;\n",
       "    }\n",
       "</style>\n",
       "<table border=\"1\" class=\"dataframe\">\n",
       "  <thead>\n",
       "    <tr style=\"text-align: right;\">\n",
       "      <th></th>\n",
       "      <th>Date</th>\n",
       "      <th>Rating</th>\n",
       "      <th>Review</th>\n",
       "      <th>Sentiment</th>\n",
       "    </tr>\n",
       "  </thead>\n",
       "  <tbody>\n",
       "    <tr>\n",
       "      <th>0</th>\n",
       "      <td>2021-03-18</td>\n",
       "      <td>1</td>\n",
       "      <td>Knowing my shares aren’t real, means RH IS MAN...</td>\n",
       "      <td>-1</td>\n",
       "    </tr>\n",
       "    <tr>\n",
       "      <th>1</th>\n",
       "      <td>2021-03-18</td>\n",
       "      <td>1</td>\n",
       "      <td>This company is currently under investigation ...</td>\n",
       "      <td>-1</td>\n",
       "    </tr>\n",
       "    <tr>\n",
       "      <th>2</th>\n",
       "      <td>2021-03-18</td>\n",
       "      <td>1</td>\n",
       "      <td>They sell your data to MM, halt trading when i...</td>\n",
       "      <td>-1</td>\n",
       "    </tr>\n",
       "    <tr>\n",
       "      <th>3</th>\n",
       "      <td>2021-03-18</td>\n",
       "      <td>1</td>\n",
       "      <td>Easy and simple to use but for the love of god...</td>\n",
       "      <td>1</td>\n",
       "    </tr>\n",
       "    <tr>\n",
       "      <th>4</th>\n",
       "      <td>2021-03-18</td>\n",
       "      <td>5</td>\n",
       "      <td>Easy to learn &amp; Use</td>\n",
       "      <td>1</td>\n",
       "    </tr>\n",
       "  </tbody>\n",
       "</table>\n",
       "</div>"
      ],
      "text/plain": [
       "         Date  Rating                                             Review  \\\n",
       "0  2021-03-18       1  Knowing my shares aren’t real, means RH IS MAN...   \n",
       "1  2021-03-18       1  This company is currently under investigation ...   \n",
       "2  2021-03-18       1  They sell your data to MM, halt trading when i...   \n",
       "3  2021-03-18       1  Easy and simple to use but for the love of god...   \n",
       "4  2021-03-18       5                                Easy to learn & Use   \n",
       "\n",
       "   Sentiment  \n",
       "0         -1  \n",
       "1         -1  \n",
       "2         -1  \n",
       "3          1  \n",
       "4          1  "
      ]
     },
     "execution_count": 18,
     "metadata": {},
     "output_type": "execute_result"
    }
   ],
   "source": [
    "df.head(5)"
   ]
  },
  {
   "cell_type": "code",
   "execution_count": 19,
   "metadata": {},
   "outputs": [
    {
     "data": {
      "text/html": [
       "<div>\n",
       "<style scoped>\n",
       "    .dataframe tbody tr th:only-of-type {\n",
       "        vertical-align: middle;\n",
       "    }\n",
       "\n",
       "    .dataframe tbody tr th {\n",
       "        vertical-align: top;\n",
       "    }\n",
       "\n",
       "    .dataframe thead th {\n",
       "        text-align: right;\n",
       "    }\n",
       "</style>\n",
       "<table border=\"1\" class=\"dataframe\">\n",
       "  <thead>\n",
       "    <tr style=\"text-align: right;\">\n",
       "      <th></th>\n",
       "      <th>Rating</th>\n",
       "      <th>Sentiment</th>\n",
       "    </tr>\n",
       "  </thead>\n",
       "  <tbody>\n",
       "    <tr>\n",
       "      <th>Rating</th>\n",
       "      <td>1.000000</td>\n",
       "      <td>0.509658</td>\n",
       "    </tr>\n",
       "    <tr>\n",
       "      <th>Sentiment</th>\n",
       "      <td>0.509658</td>\n",
       "      <td>1.000000</td>\n",
       "    </tr>\n",
       "  </tbody>\n",
       "</table>\n",
       "</div>"
      ],
      "text/plain": [
       "             Rating  Sentiment\n",
       "Rating     1.000000   0.509658\n",
       "Sentiment  0.509658   1.000000"
      ]
     },
     "execution_count": 19,
     "metadata": {},
     "output_type": "execute_result"
    }
   ],
   "source": [
    "corr = df.corr(method = 'pearson')\n",
    "corr"
   ]
  },
  {
   "cell_type": "code",
   "execution_count": 20,
   "metadata": {},
   "outputs": [],
   "source": [
    "df.to_csv(\"ios_app_final.csv\", index=False)"
   ]
  },
  {
   "cell_type": "code",
   "execution_count": null,
   "metadata": {},
   "outputs": [],
   "source": []
  }
 ],
 "metadata": {
  "kernelspec": {
   "display_name": "Python 3",
   "language": "python",
   "name": "python3"
  },
  "language_info": {
   "codemirror_mode": {
    "name": "ipython",
    "version": 3
   },
   "file_extension": ".py",
   "mimetype": "text/x-python",
   "name": "python",
   "nbconvert_exporter": "python",
   "pygments_lexer": "ipython3",
   "version": "3.7.4"
  },
  "toc": {
   "base_numbering": 1,
   "nav_menu": {},
   "number_sections": true,
   "sideBar": true,
   "skip_h1_title": true,
   "title_cell": "Table of Contents",
   "title_sidebar": "Contents",
   "toc_cell": false,
   "toc_position": {},
   "toc_section_display": true,
   "toc_window_display": false
  },
  "varInspector": {
   "cols": {
    "lenName": 16,
    "lenType": 16,
    "lenVar": 40
   },
   "kernels_config": {
    "python": {
     "delete_cmd_postfix": "",
     "delete_cmd_prefix": "del ",
     "library": "var_list.py",
     "varRefreshCmd": "print(var_dic_list())"
    },
    "r": {
     "delete_cmd_postfix": ") ",
     "delete_cmd_prefix": "rm(",
     "library": "var_list.r",
     "varRefreshCmd": "cat(var_dic_list()) "
    }
   },
   "types_to_exclude": [
    "module",
    "function",
    "builtin_function_or_method",
    "instance",
    "_Feature"
   ],
   "window_display": false
  }
 },
 "nbformat": 4,
 "nbformat_minor": 2
}
