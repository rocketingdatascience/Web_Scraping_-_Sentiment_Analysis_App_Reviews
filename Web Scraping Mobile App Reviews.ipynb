{
 "cells": [
  {
   "cell_type": "markdown",
   "metadata": {},
   "source": [
    "# App Reviews with Selenium Web Scraper"
   ]
  },
  {
   "cell_type": "markdown",
   "metadata": {},
   "source": [
    "- Selenium: https://selenium-python.readthedocs.io/\n",
    "- Beautiful Soup: https://www.crummy.com/software/BeautifulSoup/bs4/doc/"
   ]
  },
  {
   "cell_type": "code",
   "execution_count": 1,
   "metadata": {},
   "outputs": [],
   "source": [
    "from bs4 import BeautifulSoup\n",
    "import pandas as pd\n",
    "import time\n",
    "import numpy as np\n",
    "from datetime import datetime\n",
    "from datetime import date, timedelta\n",
    "from selenium import webdriver\n",
    "from selenium.webdriver.common.by import By\n",
    "from selenium.webdriver.support.ui import WebDriverWait\n",
    "from selenium.webdriver.support import expected_conditions as EC"
   ]
  },
  {
   "cell_type": "code",
   "execution_count": 2,
   "metadata": {},
   "outputs": [],
   "source": [
    "driver = webdriver.Chrome()\n",
    "\n",
    "driver.get('https://sensortower.com/ios/US/robinhood-markets-inc/app/robinhood-investing-for-all/938003185/review-history?selected_tab=reviews')"
   ]
  },
  {
   "cell_type": "code",
   "execution_count": 3,
   "metadata": {},
   "outputs": [],
   "source": [
    "def get_page():\n",
    "    doc = BeautifulSoup(driver.page_source, features='html.parser')\n",
    "    rows = doc.select(\"tbody tr\")\n",
    "\n",
    "    reviews = []\n",
    "    for row in rows:\n",
    "        cells = row.select(\"td\")\n",
    "        data = {\n",
    "            'Country': cells[0].text.strip(),\n",
    "            'Date': cells[1].text.strip(),\n",
    "            'Rating': cells[2].select_one('.gold')['style'],\n",
    "            'Review': cells[3].select_one('.break-wrap-review').text.strip(),\n",
    "            'Version': cells[4].text.strip()\n",
    "        }\n",
    "        reviews.append(data)\n",
    "    return reviews"
   ]
  },
  {
   "cell_type": "code",
   "execution_count": 4,
   "metadata": {},
   "outputs": [],
   "source": [
    "all_reviews = []\n",
    "wait = WebDriverWait(driver, 5, poll_frequency=0.5)\n",
    "\n",
    "while True:\n",
    "    wait.until(EC.invisibility_of_element_located((By.CSS_SELECTOR, '.ajax-loading-cover')))\n",
    "\n",
    "    results = get_page()    \n",
    "    all_reviews.extend(results)\n",
    "\n",
    "    # Define next page button\n",
    "    next_button = driver.find_element_by_xpath(\"//div[@class='filter-block top']//div[contains(@class, 'pagination')]/button[2]\")\n",
    "    \n",
    "    # Break when the button become disabled\n",
    "    if next_button.get_attribute('disabled'):\n",
    "        break\n",
    "    next_button.click()\n",
    "    time.sleep(3)"
   ]
  },
  {
   "cell_type": "code",
   "execution_count": 5,
   "metadata": {},
   "outputs": [],
   "source": [
    "dataset = pd.DataFrame(all_reviews)"
   ]
  },
  {
   "cell_type": "code",
   "execution_count": 6,
   "metadata": {},
   "outputs": [],
   "source": [
    "driver.close()"
   ]
  },
  {
   "cell_type": "code",
   "execution_count": 7,
   "metadata": {},
   "outputs": [
    {
     "data": {
      "text/plain": [
       "(27139, 5)"
      ]
     },
     "execution_count": 7,
     "metadata": {},
     "output_type": "execute_result"
    }
   ],
   "source": [
    "dataset.shape"
   ]
  },
  {
   "cell_type": "code",
   "execution_count": 9,
   "metadata": {},
   "outputs": [
    {
     "data": {
      "text/plain": [
       "width: 19%;    14900\n",
       "width: 99%;     8623\n",
       "width: 79%;     1549\n",
       "width: 39%;     1099\n",
       "width: 59%;      968\n",
       "Name: Rating, dtype: int64"
      ]
     },
     "execution_count": 9,
     "metadata": {},
     "output_type": "execute_result"
    }
   ],
   "source": [
    "#Converting HTML start percentage to numbers\n",
    "\n",
    "dataset.Rating.value_counts()"
   ]
  },
  {
   "cell_type": "code",
   "execution_count": 10,
   "metadata": {},
   "outputs": [],
   "source": [
    "dataset.Rating = dataset.Rating.replace({\n",
    "    'width: 99%;': 5,\n",
    "    'width: 79%;': 4,\n",
    "    'width: 59%;': 3,\n",
    "    'width: 39%;': 2,\n",
    "    'width: 19%;': 1\n",
    "    })"
   ]
  },
  {
   "cell_type": "code",
   "execution_count": 11,
   "metadata": {},
   "outputs": [
    {
     "data": {
      "text/html": [
       "<div>\n",
       "<style scoped>\n",
       "    .dataframe tbody tr th:only-of-type {\n",
       "        vertical-align: middle;\n",
       "    }\n",
       "\n",
       "    .dataframe tbody tr th {\n",
       "        vertical-align: top;\n",
       "    }\n",
       "\n",
       "    .dataframe thead th {\n",
       "        text-align: right;\n",
       "    }\n",
       "</style>\n",
       "<table border=\"1\" class=\"dataframe\">\n",
       "  <thead>\n",
       "    <tr style=\"text-align: right;\">\n",
       "      <th></th>\n",
       "      <th>Rating</th>\n",
       "    </tr>\n",
       "  </thead>\n",
       "  <tbody>\n",
       "    <tr>\n",
       "      <th>count</th>\n",
       "      <td>27139.000000</td>\n",
       "    </tr>\n",
       "    <tr>\n",
       "      <th>mean</th>\n",
       "      <td>2.554000</td>\n",
       "    </tr>\n",
       "    <tr>\n",
       "      <th>std</th>\n",
       "      <td>1.834617</td>\n",
       "    </tr>\n",
       "    <tr>\n",
       "      <th>min</th>\n",
       "      <td>1.000000</td>\n",
       "    </tr>\n",
       "    <tr>\n",
       "      <th>25%</th>\n",
       "      <td>1.000000</td>\n",
       "    </tr>\n",
       "    <tr>\n",
       "      <th>50%</th>\n",
       "      <td>1.000000</td>\n",
       "    </tr>\n",
       "    <tr>\n",
       "      <th>75%</th>\n",
       "      <td>5.000000</td>\n",
       "    </tr>\n",
       "    <tr>\n",
       "      <th>max</th>\n",
       "      <td>5.000000</td>\n",
       "    </tr>\n",
       "  </tbody>\n",
       "</table>\n",
       "</div>"
      ],
      "text/plain": [
       "             Rating\n",
       "count  27139.000000\n",
       "mean       2.554000\n",
       "std        1.834617\n",
       "min        1.000000\n",
       "25%        1.000000\n",
       "50%        1.000000\n",
       "75%        5.000000\n",
       "max        5.000000"
      ]
     },
     "execution_count": 11,
     "metadata": {},
     "output_type": "execute_result"
    }
   ],
   "source": [
    "dataset.describe()"
   ]
  },
  {
   "cell_type": "code",
   "execution_count": 12,
   "metadata": {},
   "outputs": [
    {
     "data": {
      "text/html": [
       "<div>\n",
       "<style scoped>\n",
       "    .dataframe tbody tr th:only-of-type {\n",
       "        vertical-align: middle;\n",
       "    }\n",
       "\n",
       "    .dataframe tbody tr th {\n",
       "        vertical-align: top;\n",
       "    }\n",
       "\n",
       "    .dataframe thead th {\n",
       "        text-align: right;\n",
       "    }\n",
       "</style>\n",
       "<table border=\"1\" class=\"dataframe\">\n",
       "  <thead>\n",
       "    <tr style=\"text-align: right;\">\n",
       "      <th></th>\n",
       "      <th>Country</th>\n",
       "      <th>Date</th>\n",
       "      <th>Rating</th>\n",
       "      <th>Review</th>\n",
       "      <th>Version</th>\n",
       "    </tr>\n",
       "  </thead>\n",
       "  <tbody>\n",
       "    <tr>\n",
       "      <th>0</th>\n",
       "      <td>US</td>\n",
       "      <td>03/18/2021</td>\n",
       "      <td>1</td>\n",
       "      <td>Knowing my shares aren’t real, means RH IS MAN...</td>\n",
       "      <td>-</td>\n",
       "    </tr>\n",
       "    <tr>\n",
       "      <th>1</th>\n",
       "      <td>US</td>\n",
       "      <td>03/18/2021</td>\n",
       "      <td>1</td>\n",
       "      <td>This company is currently under investigation ...</td>\n",
       "      <td>-</td>\n",
       "    </tr>\n",
       "    <tr>\n",
       "      <th>2</th>\n",
       "      <td>US</td>\n",
       "      <td>03/18/2021</td>\n",
       "      <td>1</td>\n",
       "      <td>They sell your data to MM, halt trading when i...</td>\n",
       "      <td>-</td>\n",
       "    </tr>\n",
       "    <tr>\n",
       "      <th>3</th>\n",
       "      <td>US</td>\n",
       "      <td>03/18/2021</td>\n",
       "      <td>1</td>\n",
       "      <td>Easy and simple to use but for the love of god...</td>\n",
       "      <td>-</td>\n",
       "    </tr>\n",
       "    <tr>\n",
       "      <th>4</th>\n",
       "      <td>US</td>\n",
       "      <td>03/18/2021</td>\n",
       "      <td>5</td>\n",
       "      <td>Easy to learn &amp; Use</td>\n",
       "      <td>-</td>\n",
       "    </tr>\n",
       "    <tr>\n",
       "      <th>...</th>\n",
       "      <td>...</td>\n",
       "      <td>...</td>\n",
       "      <td>...</td>\n",
       "      <td>...</td>\n",
       "      <td>...</td>\n",
       "    </tr>\n",
       "    <tr>\n",
       "      <th>95</th>\n",
       "      <td>US</td>\n",
       "      <td>03/17/2021</td>\n",
       "      <td>1</td>\n",
       "      <td>Be careful with this app... worst to trade</td>\n",
       "      <td>9.6.0</td>\n",
       "    </tr>\n",
       "    <tr>\n",
       "      <th>96</th>\n",
       "      <td>US</td>\n",
       "      <td>03/17/2021</td>\n",
       "      <td>1</td>\n",
       "      <td>Robinhood let me buy stock of my choice and wh...</td>\n",
       "      <td>9.6.0</td>\n",
       "    </tr>\n",
       "    <tr>\n",
       "      <th>97</th>\n",
       "      <td>US</td>\n",
       "      <td>03/17/2021</td>\n",
       "      <td>1</td>\n",
       "      <td>this is the worst broker ever. during 2021 sto...</td>\n",
       "      <td>9.6.0</td>\n",
       "    </tr>\n",
       "    <tr>\n",
       "      <th>98</th>\n",
       "      <td>US</td>\n",
       "      <td>03/17/2021</td>\n",
       "      <td>5</td>\n",
       "      <td>Easy interface, just beginning but still mobil...</td>\n",
       "      <td>9.5.0</td>\n",
       "    </tr>\n",
       "    <tr>\n",
       "      <th>99</th>\n",
       "      <td>US</td>\n",
       "      <td>03/17/2021</td>\n",
       "      <td>1</td>\n",
       "      <td>Restricting buying and taking the side of big ...</td>\n",
       "      <td>9.5.0</td>\n",
       "    </tr>\n",
       "  </tbody>\n",
       "</table>\n",
       "<p>100 rows × 5 columns</p>\n",
       "</div>"
      ],
      "text/plain": [
       "   Country        Date  Rating  \\\n",
       "0       US  03/18/2021       1   \n",
       "1       US  03/18/2021       1   \n",
       "2       US  03/18/2021       1   \n",
       "3       US  03/18/2021       1   \n",
       "4       US  03/18/2021       5   \n",
       "..     ...         ...     ...   \n",
       "95      US  03/17/2021       1   \n",
       "96      US  03/17/2021       1   \n",
       "97      US  03/17/2021       1   \n",
       "98      US  03/17/2021       5   \n",
       "99      US  03/17/2021       1   \n",
       "\n",
       "                                               Review Version  \n",
       "0   Knowing my shares aren’t real, means RH IS MAN...       -  \n",
       "1   This company is currently under investigation ...       -  \n",
       "2   They sell your data to MM, halt trading when i...       -  \n",
       "3   Easy and simple to use but for the love of god...       -  \n",
       "4                                 Easy to learn & Use       -  \n",
       "..                                                ...     ...  \n",
       "95         Be careful with this app... worst to trade   9.6.0  \n",
       "96  Robinhood let me buy stock of my choice and wh...   9.6.0  \n",
       "97  this is the worst broker ever. during 2021 sto...   9.6.0  \n",
       "98  Easy interface, just beginning but still mobil...   9.5.0  \n",
       "99  Restricting buying and taking the side of big ...   9.5.0  \n",
       "\n",
       "[100 rows x 5 columns]"
      ]
     },
     "execution_count": 12,
     "metadata": {},
     "output_type": "execute_result"
    }
   ],
   "source": [
    "dataset.head(100)"
   ]
  },
  {
   "cell_type": "code",
   "execution_count": 13,
   "metadata": {},
   "outputs": [],
   "source": [
    "dataset['Date'] = pd.to_datetime(dataset['Date'])"
   ]
  },
  {
   "cell_type": "code",
   "execution_count": 14,
   "metadata": {},
   "outputs": [
    {
     "data": {
      "text/html": [
       "<div>\n",
       "<style scoped>\n",
       "    .dataframe tbody tr th:only-of-type {\n",
       "        vertical-align: middle;\n",
       "    }\n",
       "\n",
       "    .dataframe tbody tr th {\n",
       "        vertical-align: top;\n",
       "    }\n",
       "\n",
       "    .dataframe thead th {\n",
       "        text-align: right;\n",
       "    }\n",
       "</style>\n",
       "<table border=\"1\" class=\"dataframe\">\n",
       "  <thead>\n",
       "    <tr style=\"text-align: right;\">\n",
       "      <th></th>\n",
       "      <th>Country</th>\n",
       "      <th>Date</th>\n",
       "      <th>Rating</th>\n",
       "      <th>Review</th>\n",
       "      <th>Version</th>\n",
       "    </tr>\n",
       "  </thead>\n",
       "  <tbody>\n",
       "    <tr>\n",
       "      <th>0</th>\n",
       "      <td>US</td>\n",
       "      <td>2021-03-18</td>\n",
       "      <td>1</td>\n",
       "      <td>Knowing my shares aren’t real, means RH IS MAN...</td>\n",
       "      <td>-</td>\n",
       "    </tr>\n",
       "    <tr>\n",
       "      <th>1</th>\n",
       "      <td>US</td>\n",
       "      <td>2021-03-18</td>\n",
       "      <td>1</td>\n",
       "      <td>This company is currently under investigation ...</td>\n",
       "      <td>-</td>\n",
       "    </tr>\n",
       "    <tr>\n",
       "      <th>2</th>\n",
       "      <td>US</td>\n",
       "      <td>2021-03-18</td>\n",
       "      <td>1</td>\n",
       "      <td>They sell your data to MM, halt trading when i...</td>\n",
       "      <td>-</td>\n",
       "    </tr>\n",
       "    <tr>\n",
       "      <th>3</th>\n",
       "      <td>US</td>\n",
       "      <td>2021-03-18</td>\n",
       "      <td>1</td>\n",
       "      <td>Easy and simple to use but for the love of god...</td>\n",
       "      <td>-</td>\n",
       "    </tr>\n",
       "    <tr>\n",
       "      <th>4</th>\n",
       "      <td>US</td>\n",
       "      <td>2021-03-18</td>\n",
       "      <td>5</td>\n",
       "      <td>Easy to learn &amp; Use</td>\n",
       "      <td>-</td>\n",
       "    </tr>\n",
       "  </tbody>\n",
       "</table>\n",
       "</div>"
      ],
      "text/plain": [
       "  Country       Date  Rating  \\\n",
       "0      US 2021-03-18       1   \n",
       "1      US 2021-03-18       1   \n",
       "2      US 2021-03-18       1   \n",
       "3      US 2021-03-18       1   \n",
       "4      US 2021-03-18       5   \n",
       "\n",
       "                                              Review Version  \n",
       "0  Knowing my shares aren’t real, means RH IS MAN...       -  \n",
       "1  This company is currently under investigation ...       -  \n",
       "2  They sell your data to MM, halt trading when i...       -  \n",
       "3  Easy and simple to use but for the love of god...       -  \n",
       "4                                Easy to learn & Use       -  "
      ]
     },
     "execution_count": 14,
     "metadata": {},
     "output_type": "execute_result"
    }
   ],
   "source": [
    "dataset.head()"
   ]
  },
  {
   "cell_type": "code",
   "execution_count": 15,
   "metadata": {},
   "outputs": [],
   "source": [
    "time = datetime.now().strftime('%Y%m%d_%H%M')\n",
    "dataset.to_csv(str(time) + \"ios_app.csv\", index=False)"
   ]
  },
  {
   "cell_type": "code",
   "execution_count": null,
   "metadata": {},
   "outputs": [],
   "source": []
  }
 ],
 "metadata": {
  "kernelspec": {
   "display_name": "Python 3",
   "language": "python",
   "name": "python3"
  },
  "language_info": {
   "codemirror_mode": {
    "name": "ipython",
    "version": 3
   },
   "file_extension": ".py",
   "mimetype": "text/x-python",
   "name": "python",
   "nbconvert_exporter": "python",
   "pygments_lexer": "ipython3",
   "version": "3.7.4"
  },
  "toc": {
   "base_numbering": 1,
   "nav_menu": {},
   "number_sections": true,
   "sideBar": true,
   "skip_h1_title": true,
   "title_cell": "Table of Contents",
   "title_sidebar": "Contents",
   "toc_cell": false,
   "toc_position": {},
   "toc_section_display": true,
   "toc_window_display": false
  },
  "varInspector": {
   "cols": {
    "lenName": 16,
    "lenType": 16,
    "lenVar": 40
   },
   "kernels_config": {
    "python": {
     "delete_cmd_postfix": "",
     "delete_cmd_prefix": "del ",
     "library": "var_list.py",
     "varRefreshCmd": "print(var_dic_list())"
    },
    "r": {
     "delete_cmd_postfix": ") ",
     "delete_cmd_prefix": "rm(",
     "library": "var_list.r",
     "varRefreshCmd": "cat(var_dic_list()) "
    }
   },
   "types_to_exclude": [
    "module",
    "function",
    "builtin_function_or_method",
    "instance",
    "_Feature"
   ],
   "window_display": false
  }
 },
 "nbformat": 4,
 "nbformat_minor": 2
}
